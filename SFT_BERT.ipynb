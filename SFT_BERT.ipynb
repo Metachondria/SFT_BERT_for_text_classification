{
  "metadata": {
    "kernelspec": {
      "language": "python",
      "display_name": "Python 3",
      "name": "python3"
    },
    "language_info": {
      "name": "python",
      "version": "3.10.12",
      "mimetype": "text/x-python",
      "codemirror_mode": {
        "name": "ipython",
        "version": 3
      },
      "pygments_lexer": "ipython3",
      "nbconvert_exporter": "python",
      "file_extension": ".py"
    },
    "kaggle": {
      "accelerator": "nvidiaTeslaT4",
      "dataSources": [
        {
          "sourceId": 10280881,
          "sourceType": "datasetVersion",
          "datasetId": 6361948
        }
      ],
      "dockerImageVersionId": 30823,
      "isInternetEnabled": true,
      "language": "python",
      "sourceType": "notebook",
      "isGpuEnabled": true
    },
    "colab": {
      "name": "SFT_BERT",
      "provenance": [],
      "include_colab_link": true
    }
  },
  "nbformat_minor": 0,
  "nbformat": 4,
  "cells": [
    {
      "cell_type": "markdown",
      "metadata": {
        "id": "view-in-github",
        "colab_type": "text"
      },
      "source": [
        "<a href=\"https://colab.research.google.com/github/Metachondria/SFT_BERT_for_text_classification/blob/main/SFT_BERT.ipynb\" target=\"_parent\"><img src=\"https://colab.research.google.com/assets/colab-badge.svg\" alt=\"Open In Colab\"/></a>"
      ]
    },
    {
      "cell_type": "markdown",
      "source": [
        "# Fine-tune BERT for text classification"
      ],
      "metadata": {
        "id": "U4tvuW9GPVJP"
      }
    },
    {
      "cell_type": "code",
      "source": [
        "import os\n",
        "for dirname, _, filenames in os.walk('/kaggle/input'):\n",
        "    for filename in filenames:\n",
        "        print(os.path.join(dirname, filename))"
      ],
      "metadata": {
        "trusted": true,
        "execution": {
          "iopub.status.busy": "2024-12-24T13:46:38.142956Z",
          "iopub.execute_input": "2024-12-24T13:46:38.143203Z",
          "iopub.status.idle": "2024-12-24T13:46:38.155483Z",
          "shell.execute_reply.started": "2024-12-24T13:46:38.143181Z",
          "shell.execute_reply": "2024-12-24T13:46:38.154715Z"
        },
        "id": "kul5bJbOPVJR",
        "outputId": "e6eb7108-ea33-4c6a-cfb2-d50560b84214"
      },
      "outputs": [
        {
          "name": "stdout",
          "text": "/kaggle/input/datafromcompetition/train.csv\n/kaggle/input/datafromcompetition/test.csv\n",
          "output_type": "stream"
        }
      ],
      "execution_count": null
    },
    {
      "cell_type": "code",
      "source": [
        "import numpy as np\n",
        "import pandas as pd\n",
        "\n",
        "import transformers\n",
        "from transformers import BertForSequenceClassification, BertTokenizer, get_linear_schedule_with_warmup, AdamW, BertConfig\n",
        "import torch\n",
        "import torch.nn as nn\n",
        "from torch.utils.data import DataLoader, TensorDataset, random_split, RandomSampler, SequentialSampler\n",
        "from sklearn.metrics import f1_score, accuracy_score\n",
        "\n",
        "import re\n",
        "import spacy\n",
        "\n",
        "import tqdm\n",
        "\n",
        "\n",
        "device = torch.device(\"cuda\" if torch.cuda.is_available() else \"cpu\")"
      ],
      "metadata": {
        "_uuid": "8f2839f25d086af736a60e9eeb907d3b93b6e0e5",
        "_cell_guid": "b1076dfc-b9ad-4769-8c92-a6c4dae69d19",
        "trusted": true,
        "execution": {
          "iopub.status.busy": "2024-12-24T13:46:40.169883Z",
          "iopub.execute_input": "2024-12-24T13:46:40.170182Z",
          "iopub.status.idle": "2024-12-24T13:46:48.990416Z",
          "shell.execute_reply.started": "2024-12-24T13:46:40.170154Z",
          "shell.execute_reply": "2024-12-24T13:46:48.989555Z"
        },
        "id": "vZsrNk-tPVJS"
      },
      "outputs": [],
      "execution_count": null
    },
    {
      "cell_type": "code",
      "source": [
        "data = pd.read_csv('/kaggle/input/datafromcompetition/train.csv')\n",
        "test = pd.read_csv('/kaggle/input/datafromcompetition/test.csv')"
      ],
      "metadata": {
        "trusted": true,
        "execution": {
          "iopub.status.busy": "2024-12-24T13:46:48.991591Z",
          "iopub.execute_input": "2024-12-24T13:46:48.992029Z",
          "iopub.status.idle": "2024-12-24T13:46:49.064835Z",
          "shell.execute_reply.started": "2024-12-24T13:46:48.992006Z",
          "shell.execute_reply": "2024-12-24T13:46:49.06421Z"
        },
        "id": "mcQjs8caPVJS"
      },
      "outputs": [],
      "execution_count": null
    },
    {
      "cell_type": "code",
      "source": [
        "len(data.text)"
      ],
      "metadata": {
        "trusted": true,
        "execution": {
          "iopub.status.busy": "2024-12-24T13:01:06.647621Z",
          "iopub.execute_input": "2024-12-24T13:01:06.647899Z",
          "iopub.status.idle": "2024-12-24T13:01:06.653576Z",
          "shell.execute_reply.started": "2024-12-24T13:01:06.647879Z",
          "shell.execute_reply": "2024-12-24T13:01:06.65274Z"
        },
        "id": "2pM0ULmEPVJT",
        "outputId": "f971c3e4-7e74-4288-b1ab-548f4148dfac"
      },
      "outputs": [
        {
          "execution_count": 9,
          "output_type": "execute_result",
          "data": {
            "text/plain": "7613"
          },
          "metadata": {}
        }
      ],
      "execution_count": null
    },
    {
      "cell_type": "markdown",
      "source": [
        "# Preprocessing"
      ],
      "metadata": {
        "id": "BGZca_t3PVJT"
      }
    },
    {
      "cell_type": "code",
      "source": [
        "nlp = spacy.load(\"en_core_web_sm\")\n",
        "def clean_text(text):\n",
        "    emoji_pattern = re.compile(\"[\"\n",
        "                           u\"\\U0001F600-\\U0001F64F\"  # emoticons\n",
        "                           u\"\\U0001F300-\\U0001F5FF\"  # symbols & pictographs\n",
        "                           u\"\\U0001F680-\\U0001F6FF\"  # transport & map symbols\n",
        "                           u\"\\U0001F1E0-\\U0001F1FF\"  # flags (iOS)\n",
        "                           u\"\\U00002702-\\U000027B0\"\n",
        "                           u\"\\U000024C2-\\U0001F251\"\n",
        "                           \"]+\", flags=re.UNICODE)\n",
        "    text = emoji_pattern.sub(r'', text)\n",
        "    text = text.lower()\n",
        "    text = re.sub(r\"http\\S+\", \"\",text)\n",
        "    html =re.compile(r'<.*?>')\n",
        "    text = html.sub(r'',text)\n",
        "    text = nlp(text)\n",
        "    cleaned_text = [token.lemma_ for token in text if not token.is_stop and not token.is_punct]\n",
        "\n",
        "\n",
        "    return cleaned_text"
      ],
      "metadata": {
        "trusted": true,
        "execution": {
          "iopub.status.busy": "2024-12-24T13:46:59.706536Z",
          "iopub.execute_input": "2024-12-24T13:46:59.706839Z",
          "iopub.status.idle": "2024-12-24T13:47:00.420125Z",
          "shell.execute_reply.started": "2024-12-24T13:46:59.706817Z",
          "shell.execute_reply": "2024-12-24T13:47:00.419405Z"
        },
        "id": "LlxY0-fTPVJU"
      },
      "outputs": [],
      "execution_count": null
    },
    {
      "cell_type": "code",
      "source": [
        "data['text'] = data['text'].apply(lambda x: clean_text(x))\n",
        "data.head()"
      ],
      "metadata": {
        "trusted": true,
        "execution": {
          "iopub.status.busy": "2024-12-24T13:47:14.05514Z",
          "iopub.execute_input": "2024-12-24T13:47:14.055483Z",
          "iopub.status.idle": "2024-12-24T13:48:01.74058Z",
          "shell.execute_reply.started": "2024-12-24T13:47:14.055455Z",
          "shell.execute_reply": "2024-12-24T13:48:01.739814Z"
        },
        "id": "C2wVQSygPVJU",
        "outputId": "52a1c2dd-6d57-4880-cf16-62b8b145b440"
      },
      "outputs": [
        {
          "execution_count": 5,
          "output_type": "execute_result",
          "data": {
            "text/plain": "   id keyword location                                               text  \\\n0   1     NaN      NaN         [deed, reason, earthquake, allah, forgive]   \n1   4     NaN      NaN      [forest, fire, near, la, ronge, sask, canada]   \n2   5     NaN      NaN  [resident, ask, shelter, place, notify, office...   \n3   6     NaN      NaN  [13,000, people, receive, wildfire, evacuation...   \n4   7     NaN      NaN  [get, send, photo, ruby, alaska, smoke, wildfi...   \n\n   target  \n0       1  \n1       1  \n2       1  \n3       1  \n4       1  ",
            "text/html": "<div>\n<style scoped>\n    .dataframe tbody tr th:only-of-type {\n        vertical-align: middle;\n    }\n\n    .dataframe tbody tr th {\n        vertical-align: top;\n    }\n\n    .dataframe thead th {\n        text-align: right;\n    }\n</style>\n<table border=\"1\" class=\"dataframe\">\n  <thead>\n    <tr style=\"text-align: right;\">\n      <th></th>\n      <th>id</th>\n      <th>keyword</th>\n      <th>location</th>\n      <th>text</th>\n      <th>target</th>\n    </tr>\n  </thead>\n  <tbody>\n    <tr>\n      <th>0</th>\n      <td>1</td>\n      <td>NaN</td>\n      <td>NaN</td>\n      <td>[deed, reason, earthquake, allah, forgive]</td>\n      <td>1</td>\n    </tr>\n    <tr>\n      <th>1</th>\n      <td>4</td>\n      <td>NaN</td>\n      <td>NaN</td>\n      <td>[forest, fire, near, la, ronge, sask, canada]</td>\n      <td>1</td>\n    </tr>\n    <tr>\n      <th>2</th>\n      <td>5</td>\n      <td>NaN</td>\n      <td>NaN</td>\n      <td>[resident, ask, shelter, place, notify, office...</td>\n      <td>1</td>\n    </tr>\n    <tr>\n      <th>3</th>\n      <td>6</td>\n      <td>NaN</td>\n      <td>NaN</td>\n      <td>[13,000, people, receive, wildfire, evacuation...</td>\n      <td>1</td>\n    </tr>\n    <tr>\n      <th>4</th>\n      <td>7</td>\n      <td>NaN</td>\n      <td>NaN</td>\n      <td>[get, send, photo, ruby, alaska, smoke, wildfi...</td>\n      <td>1</td>\n    </tr>\n  </tbody>\n</table>\n</div>"
          },
          "metadata": {}
        }
      ],
      "execution_count": null
    },
    {
      "cell_type": "code",
      "source": [
        "data.target.value_counts()"
      ],
      "metadata": {
        "trusted": true,
        "execution": {
          "iopub.status.busy": "2024-12-24T13:48:21.486988Z",
          "iopub.execute_input": "2024-12-24T13:48:21.48728Z",
          "iopub.status.idle": "2024-12-24T13:48:21.500583Z",
          "shell.execute_reply.started": "2024-12-24T13:48:21.487257Z",
          "shell.execute_reply": "2024-12-24T13:48:21.499794Z"
        },
        "id": "nHLNV_BiPVJV",
        "outputId": "5a04c75e-a36f-4163-8c5c-21591a1c888a"
      },
      "outputs": [
        {
          "execution_count": 6,
          "output_type": "execute_result",
          "data": {
            "text/plain": "target\n0    4342\n1    3271\nName: count, dtype: int64"
          },
          "metadata": {}
        }
      ],
      "execution_count": null
    },
    {
      "cell_type": "code",
      "source": [
        "s = '<h1>Hello, my name is Ben, I`m human😁. \"http://t.co/utbxlcbiuy\" </h>'\n",
        "clean_text(s)"
      ],
      "metadata": {
        "trusted": true,
        "execution": {
          "iopub.status.busy": "2024-12-24T13:48:23.80216Z",
          "iopub.execute_input": "2024-12-24T13:48:23.802477Z",
          "iopub.status.idle": "2024-12-24T13:48:23.817523Z",
          "shell.execute_reply.started": "2024-12-24T13:48:23.802417Z",
          "shell.execute_reply": "2024-12-24T13:48:23.816743Z"
        },
        "id": "hLKKwnt1PVJV",
        "outputId": "e92a88e5-ff12-45ee-e30d-b20225649b03"
      },
      "outputs": [
        {
          "execution_count": 7,
          "output_type": "execute_result",
          "data": {
            "text/plain": "['hello', 'ben', 'i`m', 'human']"
          },
          "metadata": {}
        }
      ],
      "execution_count": null
    },
    {
      "cell_type": "code",
      "source": [
        "tweets = data['text'].values\n",
        "labels = data['target'].values"
      ],
      "metadata": {
        "trusted": true,
        "execution": {
          "iopub.status.busy": "2024-12-24T13:48:29.981472Z",
          "iopub.execute_input": "2024-12-24T13:48:29.981789Z",
          "iopub.status.idle": "2024-12-24T13:48:29.985879Z",
          "shell.execute_reply.started": "2024-12-24T13:48:29.981764Z",
          "shell.execute_reply": "2024-12-24T13:48:29.984872Z"
        },
        "id": "KODQkMeRPVJW"
      },
      "outputs": [],
      "execution_count": null
    },
    {
      "cell_type": "code",
      "source": [
        "tokenizer = BertTokenizer.from_pretrained('bert-base-uncased', do_lower_case=True, clean_up_tokenization_spaces=True)"
      ],
      "metadata": {
        "trusted": true,
        "execution": {
          "iopub.status.busy": "2024-12-24T13:48:30.236842Z",
          "iopub.execute_input": "2024-12-24T13:48:30.237152Z",
          "iopub.status.idle": "2024-12-24T13:48:31.632288Z",
          "shell.execute_reply.started": "2024-12-24T13:48:30.237125Z",
          "shell.execute_reply": "2024-12-24T13:48:31.631284Z"
        },
        "id": "uNKKXXiYPVJW",
        "outputId": "2f2c54a2-a41c-401a-97f7-c9e95fd3a215",
        "colab": {
          "referenced_widgets": [
            "a0df353dce0c473f9ad1e558ffc9b0cd",
            "693c3a7c816743819b3a95cf27050086",
            "ce5fb96f050248499a8f4f2791502f16",
            "26d49fd8ee8c4022ac43d8e42b705eff"
          ]
        }
      },
      "outputs": [
        {
          "output_type": "display_data",
          "data": {
            "text/plain": "tokenizer_config.json:   0%|          | 0.00/48.0 [00:00<?, ?B/s]",
            "application/vnd.jupyter.widget-view+json": {
              "version_major": 2,
              "version_minor": 0,
              "model_id": "a0df353dce0c473f9ad1e558ffc9b0cd"
            }
          },
          "metadata": {}
        },
        {
          "output_type": "display_data",
          "data": {
            "text/plain": "vocab.txt:   0%|          | 0.00/232k [00:00<?, ?B/s]",
            "application/vnd.jupyter.widget-view+json": {
              "version_major": 2,
              "version_minor": 0,
              "model_id": "693c3a7c816743819b3a95cf27050086"
            }
          },
          "metadata": {}
        },
        {
          "output_type": "display_data",
          "data": {
            "text/plain": "tokenizer.json:   0%|          | 0.00/466k [00:00<?, ?B/s]",
            "application/vnd.jupyter.widget-view+json": {
              "version_major": 2,
              "version_minor": 0,
              "model_id": "ce5fb96f050248499a8f4f2791502f16"
            }
          },
          "metadata": {}
        },
        {
          "output_type": "display_data",
          "data": {
            "text/plain": "config.json:   0%|          | 0.00/570 [00:00<?, ?B/s]",
            "application/vnd.jupyter.widget-view+json": {
              "version_major": 2,
              "version_minor": 0,
              "model_id": "26d49fd8ee8c4022ac43d8e42b705eff"
            }
          },
          "metadata": {}
        }
      ],
      "execution_count": null
    },
    {
      "cell_type": "code",
      "source": [
        "tokenizer(tweets[0], return_tensors='pt',max_length=1024, truncation=True)['input_ids']"
      ],
      "metadata": {
        "trusted": true,
        "execution": {
          "iopub.status.busy": "2024-12-24T13:48:35.306866Z",
          "iopub.execute_input": "2024-12-24T13:48:35.307195Z",
          "iopub.status.idle": "2024-12-24T13:48:35.349854Z",
          "shell.execute_reply.started": "2024-12-24T13:48:35.307164Z",
          "shell.execute_reply": "2024-12-24T13:48:35.349171Z"
        },
        "id": "E1XrOo7qPVJX",
        "outputId": "ad3fabc0-395e-42cf-f47f-61c71e27bf4e"
      },
      "outputs": [
        {
          "execution_count": 10,
          "output_type": "execute_result",
          "data": {
            "text/plain": "tensor([[  101, 15046,   102],\n        [  101,  3114,   102],\n        [  101,  8372,   102],\n        [  101, 16455,   102],\n        [  101,  9641,   102]])"
          },
          "metadata": {}
        }
      ],
      "execution_count": null
    },
    {
      "cell_type": "code",
      "source": [
        "max_len = 0\n",
        "\n",
        "\n",
        "for tweet in tweets:\n",
        "    input_ids = tokenizer.encode(tweet, add_special_tokens=True)\n",
        "    max_len = max(max_len, len(input_ids))\n",
        "\n",
        "print('Max sentence length: ', max_len)"
      ],
      "metadata": {
        "trusted": true,
        "execution": {
          "iopub.status.busy": "2024-12-24T13:48:37.455658Z",
          "iopub.execute_input": "2024-12-24T13:48:37.455936Z",
          "iopub.status.idle": "2024-12-24T13:48:37.734913Z",
          "shell.execute_reply.started": "2024-12-24T13:48:37.455913Z",
          "shell.execute_reply": "2024-12-24T13:48:37.73402Z"
        },
        "id": "s6ayOT3oPVJX",
        "outputId": "7c5a378e-059a-498e-e29c-6f7ce1e6efa5"
      },
      "outputs": [
        {
          "name": "stdout",
          "text": "Max sentence length:  30\n",
          "output_type": "stream"
        }
      ],
      "execution_count": null
    },
    {
      "cell_type": "code",
      "source": [
        "input_ids = []\n",
        "attention_masks = []\n",
        "\n",
        "\n",
        "for tweet in tweets:\n",
        "    encoded_dict = tokenizer.encode_plus(\n",
        "                        tweet,\n",
        "                        add_special_tokens=True,\n",
        "                        max_length=max_len,\n",
        "                        padding='max_length',\n",
        "                        truncation=True,\n",
        "                        return_attention_mask=True,\n",
        "                        return_tensors='pt',\n",
        "                   )\n",
        "\n",
        "\n",
        "    input_ids.append(encoded_dict['input_ids'])\n",
        "    attention_masks.append(encoded_dict['attention_mask'])\n",
        "\n",
        "\n",
        "input_ids = torch.cat(input_ids, dim=0)\n",
        "attention_masks = torch.cat(attention_masks, dim=0)\n",
        "labels = torch.tensor(labels)\n",
        "\n",
        "# Print sentence 0, now as a list of IDs.\n",
        "print('Original: ', tweets[0])\n",
        "print('Token IDs:', input_ids[0])"
      ],
      "metadata": {
        "trusted": true,
        "execution": {
          "iopub.status.busy": "2024-12-24T13:48:42.105496Z",
          "iopub.execute_input": "2024-12-24T13:48:42.105773Z",
          "iopub.status.idle": "2024-12-24T13:48:42.8077Z",
          "shell.execute_reply.started": "2024-12-24T13:48:42.105753Z",
          "shell.execute_reply": "2024-12-24T13:48:42.806942Z"
        },
        "id": "rfxfLeU_PVJX",
        "outputId": "299ab799-3bb5-400b-f7b5-33485395dc18"
      },
      "outputs": [
        {
          "name": "stdout",
          "text": "Original:  ['deed', 'reason', 'earthquake', 'allah', 'forgive']\nToken IDs: tensor([  101, 15046,  3114,  8372, 16455,  9641,   102,     0,     0,     0,\n            0,     0,     0,     0,     0,     0,     0,     0,     0,     0,\n            0,     0,     0,     0,     0,     0,     0,     0,     0,     0])\n",
          "output_type": "stream"
        }
      ],
      "execution_count": null
    },
    {
      "cell_type": "code",
      "source": [
        "dataset = TensorDataset(input_ids, attention_masks, labels)"
      ],
      "metadata": {
        "trusted": true,
        "execution": {
          "iopub.status.busy": "2024-12-24T13:48:54.021328Z",
          "iopub.execute_input": "2024-12-24T13:48:54.021633Z",
          "iopub.status.idle": "2024-12-24T13:48:54.025229Z",
          "shell.execute_reply.started": "2024-12-24T13:48:54.021609Z",
          "shell.execute_reply": "2024-12-24T13:48:54.024465Z"
        },
        "id": "-bonPh9nPVJX"
      },
      "outputs": [],
      "execution_count": null
    },
    {
      "cell_type": "code",
      "source": [
        "train_size = int(0.8 * len(dataset))\n",
        "\n",
        "val_size = len(dataset)  - train_size\n",
        "\n",
        "\n",
        "train_dataset, val_dataset = random_split(dataset, [train_size, val_size])\n",
        "\n",
        "\n",
        "print('{:>5,} training samples'.format(train_size))\n",
        "print('{:>5,} validation samples'.format(val_size))"
      ],
      "metadata": {
        "trusted": true,
        "execution": {
          "iopub.status.busy": "2024-12-24T13:48:54.358282Z",
          "iopub.execute_input": "2024-12-24T13:48:54.358568Z",
          "iopub.status.idle": "2024-12-24T13:48:54.368715Z",
          "shell.execute_reply.started": "2024-12-24T13:48:54.358543Z",
          "shell.execute_reply": "2024-12-24T13:48:54.368032Z"
        },
        "id": "rtfXLXqnPVJY",
        "outputId": "bc994d25-cda0-45a3-bc5f-43b844aa8c11"
      },
      "outputs": [
        {
          "name": "stdout",
          "text": "6,090 training samples\n1,523 validation samples\n",
          "output_type": "stream"
        }
      ],
      "execution_count": null
    },
    {
      "cell_type": "code",
      "source": [
        "batch_size = 16\n",
        "\n",
        "\n",
        "train_dataloader = DataLoader(\n",
        "            train_dataset,\n",
        "            sampler = RandomSampler(train_dataset),\n",
        "            batch_size = batch_size\n",
        "        )\n",
        "\n",
        "validation_dataloader = DataLoader(\n",
        "            val_dataset,\n",
        "            sampler = SequentialSampler(val_dataset),\n",
        "            batch_size = batch_size #\n",
        "        )"
      ],
      "metadata": {
        "trusted": true,
        "execution": {
          "iopub.status.busy": "2024-12-24T13:48:55.951944Z",
          "iopub.execute_input": "2024-12-24T13:48:55.952285Z",
          "iopub.status.idle": "2024-12-24T13:48:55.957142Z",
          "shell.execute_reply.started": "2024-12-24T13:48:55.952256Z",
          "shell.execute_reply": "2024-12-24T13:48:55.956154Z"
        },
        "id": "q6N-M5YdPVJY"
      },
      "outputs": [],
      "execution_count": null
    },
    {
      "cell_type": "code",
      "source": [
        "config = BertConfig.from_pretrained(\n",
        "    \"bert-base-uncased\",\n",
        "    num_labels=2,\n",
        "    output_attentions=False,\n",
        "    output_hidden_states=False,\n",
        "    hidden_dropout_prob=0.35,\n",
        "    attention_probs_dropout_prob=0.35\n",
        ")\n",
        "model = BertForSequenceClassification.from_pretrained(\"bert-base-uncased\", config=config)\n",
        "model = model.to(device)"
      ],
      "metadata": {
        "trusted": true,
        "execution": {
          "iopub.status.busy": "2024-12-24T13:48:58.188585Z",
          "iopub.execute_input": "2024-12-24T13:48:58.188859Z",
          "iopub.status.idle": "2024-12-24T13:49:00.686859Z",
          "shell.execute_reply.started": "2024-12-24T13:48:58.188838Z",
          "shell.execute_reply": "2024-12-24T13:49:00.685913Z"
        },
        "id": "j78YNc82PVJY",
        "outputId": "e7d179ba-16a1-412f-e95e-8b8cda497c16",
        "colab": {
          "referenced_widgets": [
            "327efb3e489e496998f2c95d4213d510"
          ]
        }
      },
      "outputs": [
        {
          "output_type": "display_data",
          "data": {
            "text/plain": "model.safetensors:   0%|          | 0.00/440M [00:00<?, ?B/s]",
            "application/vnd.jupyter.widget-view+json": {
              "version_major": 2,
              "version_minor": 0,
              "model_id": "327efb3e489e496998f2c95d4213d510"
            }
          },
          "metadata": {}
        },
        {
          "name": "stderr",
          "text": "Some weights of BertForSequenceClassification were not initialized from the model checkpoint at bert-base-uncased and are newly initialized: ['classifier.bias', 'classifier.weight']\nYou should probably TRAIN this model on a down-stream task to be able to use it for predictions and inference.\n",
          "output_type": "stream"
        }
      ],
      "execution_count": null
    },
    {
      "cell_type": "code",
      "source": [
        "!nvidia-smi"
      ],
      "metadata": {
        "trusted": true,
        "execution": {
          "iopub.status.busy": "2024-12-24T13:49:02.856615Z",
          "iopub.execute_input": "2024-12-24T13:49:02.856897Z",
          "iopub.status.idle": "2024-12-24T13:49:03.09261Z",
          "shell.execute_reply.started": "2024-12-24T13:49:02.856875Z",
          "shell.execute_reply": "2024-12-24T13:49:03.091712Z"
        },
        "id": "PxkaQ8kuPVJZ",
        "outputId": "e4ca2445-e986-4c4d-d200-a3196c2d0191"
      },
      "outputs": [
        {
          "name": "stdout",
          "text": "Tue Dec 24 13:49:02 2024       \n+-----------------------------------------------------------------------------------------+\n| NVIDIA-SMI 560.35.03              Driver Version: 560.35.03      CUDA Version: 12.6     |\n|-----------------------------------------+------------------------+----------------------+\n| GPU  Name                 Persistence-M | Bus-Id          Disp.A | Volatile Uncorr. ECC |\n| Fan  Temp   Perf          Pwr:Usage/Cap |           Memory-Usage | GPU-Util  Compute M. |\n|                                         |                        |               MIG M. |\n|=========================================+========================+======================|\n|   0  Tesla T4                       Off |   00000000:00:04.0 Off |                    0 |\n| N/A   46C    P0             27W /   70W |     575MiB /  15360MiB |      0%      Default |\n|                                         |                        |                  N/A |\n+-----------------------------------------+------------------------+----------------------+\n|   1  Tesla T4                       Off |   00000000:00:05.0 Off |                    0 |\n| N/A   45C    P8              9W /   70W |       3MiB /  15360MiB |      0%      Default |\n|                                         |                        |                  N/A |\n+-----------------------------------------+------------------------+----------------------+\n                                                                                         \n+-----------------------------------------------------------------------------------------+\n| Processes:                                                                              |\n|  GPU   GI   CI        PID   Type   Process name                              GPU Memory |\n|        ID   ID                                                               Usage      |\n|=========================================================================================|\n+-----------------------------------------------------------------------------------------+\n",
          "output_type": "stream"
        }
      ],
      "execution_count": null
    },
    {
      "cell_type": "markdown",
      "source": [
        "# Fine-Tune BERT"
      ],
      "metadata": {
        "id": "1Vvpa1GVPVJZ"
      }
    },
    {
      "cell_type": "code",
      "source": [
        "optimizer = AdamW(model.parameters(),\n",
        "                  lr = 2e-5,\n",
        "                  eps = 1e-8\n",
        "                )"
      ],
      "metadata": {
        "trusted": true,
        "execution": {
          "iopub.status.busy": "2024-12-24T13:49:05.835085Z",
          "iopub.execute_input": "2024-12-24T13:49:05.835398Z",
          "iopub.status.idle": "2024-12-24T13:49:06.340195Z",
          "shell.execute_reply.started": "2024-12-24T13:49:05.835373Z",
          "shell.execute_reply": "2024-12-24T13:49:06.339339Z"
        },
        "id": "MyXUVs1bPVJZ",
        "outputId": "a0437a20-6613-48a4-9e37-a0b33020432b"
      },
      "outputs": [
        {
          "name": "stderr",
          "text": "/usr/local/lib/python3.10/dist-packages/transformers/optimization.py:591: FutureWarning: This implementation of AdamW is deprecated and will be removed in a future version. Use the PyTorch implementation torch.optim.AdamW instead, or set `no_deprecation_warning=True` to disable this warning\n  warnings.warn(\n",
          "output_type": "stream"
        }
      ],
      "execution_count": null
    },
    {
      "cell_type": "code",
      "source": [
        "epochs = 4\n",
        "\n",
        "\n",
        "total_steps = len(train_dataloader) * epochs\n",
        "\n",
        "\n",
        "scheduler = get_linear_schedule_with_warmup(optimizer,\n",
        "                                            num_warmup_steps = 0,\n",
        "                                            num_training_steps = total_steps)"
      ],
      "metadata": {
        "trusted": true,
        "execution": {
          "iopub.status.busy": "2024-12-24T13:49:13.601201Z",
          "iopub.execute_input": "2024-12-24T13:49:13.601509Z",
          "iopub.status.idle": "2024-12-24T13:49:13.605375Z",
          "shell.execute_reply.started": "2024-12-24T13:49:13.601485Z",
          "shell.execute_reply": "2024-12-24T13:49:13.604525Z"
        },
        "id": "u-sSiTNuPVJZ"
      },
      "outputs": [],
      "execution_count": null
    },
    {
      "cell_type": "code",
      "source": [
        "def compute_f1(predictions, labels):\n",
        "    return f1_score(labels, predictions, average='binary')\n",
        "\n",
        "def compute_acc(predictions, labels):\n",
        "    return accuracy_score(labels, predictions)"
      ],
      "metadata": {
        "trusted": true,
        "execution": {
          "iopub.status.busy": "2024-12-24T13:49:14.509272Z",
          "iopub.execute_input": "2024-12-24T13:49:14.509591Z",
          "iopub.status.idle": "2024-12-24T13:49:14.513622Z",
          "shell.execute_reply.started": "2024-12-24T13:49:14.509565Z",
          "shell.execute_reply": "2024-12-24T13:49:14.512846Z"
        },
        "id": "J55-2OltPVJZ"
      },
      "outputs": [],
      "execution_count": null
    },
    {
      "cell_type": "code",
      "source": [
        "for epoch in range(epochs):\n",
        "    model.train()\n",
        "    total_train_loss = 0\n",
        "    all_predictions = []\n",
        "    all_labels = []\n",
        "\n",
        "    for step, batch in enumerate(train_dataloader):\n",
        "\n",
        "        input_ids = batch[0].to(device)\n",
        "        attention_mask = batch[1].to(device)\n",
        "        labels = batch[2].to(device)\n",
        "\n",
        "        optimizer.zero_grad()\n",
        "\n",
        "        outputs = model(input_ids, attention_mask=attention_mask, labels=labels)\n",
        "        loss = outputs.loss\n",
        "        logits = outputs.logits\n",
        "\n",
        "        loss.backward()\n",
        "        optimizer.step()\n",
        "        scheduler.step()\n",
        "\n",
        "\n",
        "        total_train_loss += loss.item()\n",
        "\n",
        "\n",
        "        preds = torch.argmax(logits, dim=-1).cpu().numpy()\n",
        "        all_predictions.extend(preds)\n",
        "        all_labels.extend(labels.cpu().numpy())\n",
        "\n",
        "    # train_f1 = compute_f1(all_predictions, all_labels)\n",
        "    acc = compute_acc(all_predictions, all_labels)\n",
        "\n",
        "    avg_train_loss = total_train_loss / len(train_dataloader)\n",
        "    print(f\"Epoch {epoch + 1}/{epochs}\")\n",
        "    print(f\"  Training loss: {avg_train_loss:.4f}\")\n",
        "    print(f\"  acc: {acc:.4f}\")\n",
        "\n",
        "    model.eval()\n",
        "    total_val_loss = 0\n",
        "    all_val_predictions = []\n",
        "    all_val_labels = []\n",
        "\n",
        "    with torch.no_grad():\n",
        "        for batch in validation_dataloader:\n",
        "            input_ids = batch[0].to(device)\n",
        "            attention_mask = batch[1].to(device)\n",
        "            labels = batch[2].to(device)\n",
        "\n",
        "            outputs = model(input_ids, attention_mask=attention_mask, labels=labels)\n",
        "            loss = outputs.loss\n",
        "            logits = outputs.logits\n",
        "\n",
        "            total_val_loss += loss.item()\n",
        "\n",
        "            preds = torch.argmax(logits, dim=-1).cpu().numpy()\n",
        "            all_val_predictions.extend(preds)\n",
        "            all_val_labels.extend(labels.cpu().numpy())\n",
        "\n",
        "\n",
        "    val_acc = compute_acc(all_val_predictions, all_val_labels)\n",
        "    avg_val_loss = total_val_loss / len(validation_dataloader)\n",
        "    print(f\"  Val accuracy: {val_acc:.4f}\")"
      ],
      "metadata": {
        "trusted": true,
        "execution": {
          "iopub.status.busy": "2024-12-24T13:49:16.050502Z",
          "iopub.execute_input": "2024-12-24T13:49:16.050757Z",
          "iopub.status.idle": "2024-12-24T13:52:13.634821Z",
          "shell.execute_reply.started": "2024-12-24T13:49:16.050736Z",
          "shell.execute_reply": "2024-12-24T13:52:13.63404Z"
        },
        "id": "4wp1q7GPPVJa",
        "outputId": "2db145c2-1025-485e-aa63-31a97f653ca7"
      },
      "outputs": [
        {
          "name": "stdout",
          "text": "Epoch 1/4\n  Training loss: 0.5782\n  acc: 0.6970\n  Val accuracy: 0.7892\nEpoch 2/4\n  Training loss: 0.4738\n  acc: 0.7900\n  Val accuracy: 0.7951\nEpoch 3/4\n  Training loss: 0.4405\n  acc: 0.8085\n  Val accuracy: 0.7958\nEpoch 4/4\n  Training loss: 0.4249\n  acc: 0.8161\n  Val accuracy: 0.8017\n",
          "output_type": "stream"
        }
      ],
      "execution_count": null
    },
    {
      "cell_type": "markdown",
      "source": [
        "# Submit predictions"
      ],
      "metadata": {
        "id": "QjCGh8rfPVJa"
      }
    },
    {
      "cell_type": "code",
      "source": [
        "test['text'] = test['text'].apply(lambda x: clean_text(x))"
      ],
      "metadata": {
        "trusted": true,
        "execution": {
          "iopub.status.busy": "2024-12-24T13:54:58.200051Z",
          "iopub.execute_input": "2024-12-24T13:54:58.200366Z",
          "iopub.status.idle": "2024-12-24T13:55:17.871471Z",
          "shell.execute_reply.started": "2024-12-24T13:54:58.200341Z",
          "shell.execute_reply": "2024-12-24T13:55:17.870632Z"
        },
        "id": "ZWs0kiedPVJa"
      },
      "outputs": [],
      "execution_count": null
    },
    {
      "cell_type": "code",
      "source": [
        "tweets_test = test['text'].values"
      ],
      "metadata": {
        "trusted": true,
        "execution": {
          "iopub.status.busy": "2024-12-24T15:01:26.790779Z",
          "iopub.execute_input": "2024-12-24T15:01:26.791061Z",
          "iopub.status.idle": "2024-12-24T15:01:26.794864Z",
          "shell.execute_reply.started": "2024-12-24T15:01:26.791038Z",
          "shell.execute_reply": "2024-12-24T15:01:26.793981Z"
        },
        "id": "lzf-ZAziPVJa"
      },
      "outputs": [],
      "execution_count": null
    },
    {
      "cell_type": "code",
      "source": [
        "test.text"
      ],
      "metadata": {
        "trusted": true,
        "execution": {
          "iopub.status.busy": "2024-12-24T15:07:28.403876Z",
          "iopub.execute_input": "2024-12-24T15:07:28.404293Z",
          "iopub.status.idle": "2024-12-24T15:07:28.414099Z",
          "shell.execute_reply.started": "2024-12-24T15:07:28.404254Z",
          "shell.execute_reply": "2024-12-24T15:07:28.413124Z"
        },
        "id": "Ta4kcXzRPVJa",
        "outputId": "aadaae8c-b7d8-4e37-eba5-448fa6281ec3"
      },
      "outputs": [
        {
          "execution_count": 79,
          "output_type": "execute_result",
          "data": {
            "text/plain": "0                          [happen, terrible, car, crash]\n1         [hear, earthquake, different, city, stay, safe]\n2       [forest, fire, spot, pond, geese, flee, street...\n3               [apocalypse, lighting, spokane, wildfire]\n4            [typhoon, soudelor, kill, 28, china, taiwan]\n                              ...                        \n3258    [earthquake, safety, los, angeles, ûò, safety...\n3259    [storm, ri, worse, hurricane, city&amp;3other,...\n3260                   [green, line, derailment, chicago]\n3261       [meg, issue, hazardous, weather, outlook, hwo]\n3262    [cityofcalgary, activate, municipal, emergency...\nName: text, Length: 3263, dtype: object"
          },
          "metadata": {}
        }
      ],
      "execution_count": null
    },
    {
      "cell_type": "code",
      "source": [
        "test_input_ids = []\n",
        "test_attention_masks = []\n",
        "for tweet in tweets_test:\n",
        "    encoded_dict = tokenizer.encode_plus(\n",
        "                        tweet,\n",
        "                        add_special_tokens=True,\n",
        "                        max_length=max_len,\n",
        "                        padding='max_length',\n",
        "                        truncation=True,\n",
        "                        return_attention_mask=True,\n",
        "                        return_tensors='pt',\n",
        "                   )\n",
        "\n",
        "\n",
        "    test_input_ids.append(encoded_dict['input_ids'])\n",
        "    test_attention_masks.append(encoded_dict['attention_mask'])\n",
        "\n",
        "test_input_ids = torch.cat(test_input_ids, dim=0)\n",
        "test_attention_masks = torch.cat(test_attention_masks, dim=0)"
      ],
      "metadata": {
        "trusted": true,
        "execution": {
          "iopub.status.busy": "2024-12-24T15:09:33.750039Z",
          "iopub.execute_input": "2024-12-24T15:09:33.750355Z",
          "iopub.status.idle": "2024-12-24T15:09:34.055183Z",
          "shell.execute_reply.started": "2024-12-24T15:09:33.750327Z",
          "shell.execute_reply": "2024-12-24T15:09:34.054284Z"
        },
        "id": "mzMC9IMrPVJa"
      },
      "outputs": [],
      "execution_count": null
    },
    {
      "cell_type": "code",
      "source": [
        "test_dataset = TensorDataset(test_input_ids, test_attention_masks)\n",
        "test_dataloader = DataLoader(\n",
        "            test_dataset,\n",
        "            sampler = SequentialSampler(test_dataset),\n",
        "            batch_size = batch_size\n",
        "        )"
      ],
      "metadata": {
        "trusted": true,
        "execution": {
          "iopub.status.busy": "2024-12-24T15:09:37.819578Z",
          "iopub.execute_input": "2024-12-24T15:09:37.819894Z",
          "iopub.status.idle": "2024-12-24T15:09:37.823712Z",
          "shell.execute_reply.started": "2024-12-24T15:09:37.819869Z",
          "shell.execute_reply": "2024-12-24T15:09:37.822904Z"
        },
        "id": "hvsXdBy1PVJb"
      },
      "outputs": [],
      "execution_count": null
    },
    {
      "cell_type": "code",
      "source": [
        "predictions = []\n",
        "for batch in test_dataloader:\n",
        "        b_input_ids = batch[0].to(device)\n",
        "        b_input_mask = batch[1].to(device)\n",
        "        with torch.no_grad():\n",
        "            output= model(b_input_ids,\n",
        "                                   token_type_ids=None,\n",
        "                                   attention_mask=b_input_mask)\n",
        "            logits = output.logits\n",
        "            logits = logits.detach().cpu().numpy()\n",
        "            pred_flat = np.argmax(logits, axis=1).flatten()\n",
        "\n",
        "            predictions.extend(list(pred_flat))"
      ],
      "metadata": {
        "trusted": true,
        "execution": {
          "iopub.status.busy": "2024-12-24T15:09:39.07774Z",
          "iopub.execute_input": "2024-12-24T15:09:39.078059Z",
          "iopub.status.idle": "2024-12-24T15:09:45.063036Z",
          "shell.execute_reply.started": "2024-12-24T15:09:39.078032Z",
          "shell.execute_reply": "2024-12-24T15:09:45.06237Z"
        },
        "id": "wEiNSEnZPVJb"
      },
      "outputs": [],
      "execution_count": null
    },
    {
      "cell_type": "code",
      "source": [
        "df_output = pd.DataFrame()\n",
        "df_output['id'] = test['id']\n",
        "df_output['target'] = predictions\n",
        "df_output.to_csv('submission1.csv', index=False)"
      ],
      "metadata": {
        "trusted": true,
        "execution": {
          "iopub.status.busy": "2024-12-24T15:10:23.241932Z",
          "iopub.execute_input": "2024-12-24T15:10:23.242212Z",
          "iopub.status.idle": "2024-12-24T15:10:23.259701Z",
          "shell.execute_reply.started": "2024-12-24T15:10:23.242188Z",
          "shell.execute_reply": "2024-12-24T15:10:23.258998Z"
        },
        "id": "vWUYSt0BPVJb"
      },
      "outputs": [],
      "execution_count": null
    },
    {
      "cell_type": "code",
      "source": [
        "# Public score 0.81458"
      ],
      "metadata": {
        "id": "53w4Zv4mP1Bw"
      },
      "execution_count": 1,
      "outputs": []
    },
    {
      "cell_type": "code",
      "source": [],
      "metadata": {
        "id": "Rx1hdRp_Tvfa"
      },
      "execution_count": null,
      "outputs": []
    }
  ]
}